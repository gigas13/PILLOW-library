{
 "cells": [
  {
   "cell_type": "code",
   "execution_count": null,
   "id": "5fe7e2b3",
   "metadata": {},
   "outputs": [],
   "source": [
    "import PIL\n",
    "from PIL import Image, ImageEnhance, ImageDraw, ImageFont\n",
    "from IPython.display import display \n",
    "\n",
    "def create_pic(color, rate):  # color to modify (r, g, b) and rate of the change\n",
    "    # read image and convert to RGB\n",
    "    image=Image.open(\"readonly/msi_recruitment.gif\")\n",
    "    image=image.convert('RGB')\n",
    "    # apply the change to one colour and one rate\n",
    "    r, g, b = image.split()\n",
    "    if color == 'r':\n",
    "        channel='0'\n",
    "        r = r.point(lambda x: x * rate)\n",
    "    elif color == 'g':\n",
    "        channel='1'\n",
    "        g = g.point(lambda x: x * rate)\n",
    "    elif color == 'b':\n",
    "        channel='2'\n",
    "        b = b.point(lambda x: x * rate)        \n",
    "    out = Image.merge('RGB', (r, g, b))\n",
    "    out = out.resize((int(out.width / 3), (int(out.height / 3))))\n",
    "    fnt = ImageFont.truetype('readonly/fanwood-webfont.ttf', 20)\n",
    "    black_band = Image.new(mode='RGB', size=(out.width, 30), color=0)\n",
    "    d = ImageDraw.Draw(black_band)\n",
    "    d.text((10, 10), 'channel {} intensity {}'.format(channel, rate), font = fnt, fill = out.getpixel((0, 50)))\n",
    "    pic_band = PIL.Image.new('RGB', (out.width, out.height + black_band.height))\n",
    "    pic_band.paste(black_band, (0, out.height))\n",
    "    pic_band.paste(out, (0, 0))\n",
    "    return pic_band\n",
    "\n",
    "pic1_1 = create_pic('r', 0.1)\n",
    "sheet = Image.new(mode='RGB', size=(pic1_1.width*3, pic1_1.height*3), color=0)\n",
    "x=0\n",
    "y=0\n",
    "for channel in ('r','g','b'):\n",
    "    x=0\n",
    "    for rate in (0.1,0.5,0.9):\n",
    "        sheet.paste(create_pic(channel,rate), (x,y))\n",
    "        x+=pic1_1.width\n",
    "    y+=pic1_1.height\n",
    "\n",
    "display(sheet)"
   ]
  }
 ],
 "metadata": {
  "kernelspec": {
   "display_name": "Python 3",
   "language": "python",
   "name": "python3"
  },
  "language_info": {
   "codemirror_mode": {
    "name": "ipython",
    "version": 3
   },
   "file_extension": ".py",
   "mimetype": "text/x-python",
   "name": "python",
   "nbconvert_exporter": "python",
   "pygments_lexer": "ipython3",
   "version": "3.8.8"
  }
 },
 "nbformat": 4,
 "nbformat_minor": 5
}
